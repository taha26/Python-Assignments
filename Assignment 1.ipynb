{
 "cells": [
  {
   "cell_type": "code",
   "execution_count": 1,
   "metadata": {},
   "outputs": [
    {
     "name": "stdout",
     "output_type": "stream",
     "text": [
      "Muhammad Taha\n"
     ]
    }
   ],
   "source": [
    "print(\"Muhammad Taha\")"
   ]
  },
  {
   "cell_type": "code",
   "execution_count": 2,
   "metadata": {},
   "outputs": [
    {
     "name": "stdout",
     "output_type": "stream",
     "text": [
      "Twinkle, twinkle, little star,\n",
      "\tHow I wonder what you are! \n",
      "\t\tUp above the world so high\n",
      "\t\tLike a diamond in the sky.\n",
      "Twinkle, twinkle, little star,\n",
      "\tHow I wonder what you are! \n"
     ]
    }
   ],
   "source": [
    "#1. Write a Python program to print the following string in a specific format!\n",
    "\n",
    "\n",
    "print('Twinkle, twinkle, little star,')\n",
    "print('\\tHow I wonder what you are! ')\n",
    "print('\\t\\tUp above the world so high')\n",
    "print('\\t\\tLike a diamond in the sky.')\n",
    "print('Twinkle, twinkle, little star,')\n",
    "print('\\tHow I wonder what you are! ')"
   ]
  },
  {
   "cell_type": "code",
   "execution_count": 3,
   "metadata": {},
   "outputs": [
    {
     "name": "stdout",
     "output_type": "stream",
     "text": [
      "Python version:-\n",
      "3.7.4 (default, Aug  9 2019, 18:22:51) [MSC v.1915 32 bit (Intel)]\n",
      "Version information:-\n",
      "sys.version_info(major=3, minor=7, micro=4, releaselevel='final', serial=0)\n"
     ]
    }
   ],
   "source": [
    "#2. Write a Python program to get the Python version you are using!\n",
    "\n",
    "\n",
    "import sys \n",
    "\n",
    "print (\"Python version:-\")\n",
    "print (sys.version)\n",
    "print (\"Version information:-\")\n",
    "print (sys.version_info)"
   ]
  },
  {
   "cell_type": "code",
   "execution_count": 5,
   "metadata": {},
   "outputs": [
    {
     "name": "stdout",
     "output_type": "stream",
     "text": [
      "Current date and time:-  14/11/2019   04:25:11\n"
     ]
    }
   ],
   "source": [
    "#3. Write a Python program to display the current date and time!\n",
    "\n",
    "\n",
    "import datetime\n",
    "\n",
    "current = datetime.datetime.now()\n",
    "print (\"Current date and time:- \",current.strftime(\"%d/%m/%Y   %H:%M:%S\"))"
   ]
  },
  {
   "cell_type": "code",
   "execution_count": 6,
   "metadata": {},
   "outputs": [
    {
     "name": "stdout",
     "output_type": "stream",
     "text": [
      "Input the radius of the circle : 8\n",
      "The area of the circle with radius 8.0 is: 201.06192982974676\n"
     ]
    }
   ],
   "source": [
    "#4. Write a Python program which accepts the radius of a circle from the user and compute the area!\n",
    "\n",
    "from math import pi\n",
    "r = float(input (\"Input the radius of the circle : \"))\n",
    "print (\"The area of the circle with radius \" + str(r) + \" is: \" + str(pi * r**2))"
   ]
  },
  {
   "cell_type": "code",
   "execution_count": 7,
   "metadata": {},
   "outputs": [
    {
     "name": "stdout",
     "output_type": "stream",
     "text": [
      "First Name: Muhammad\n",
      "Last  Name: Taha\n",
      "Taha Muhammad\n"
     ]
    }
   ],
   "source": [
    "#5. Write a Python program which accepts the user's first and last name and print them in reverse order with a space between them!\n",
    "\n",
    "firstname = input(\"First Name: \")\n",
    "lastname = input(\"Last  Name: \")\n",
    "print(lastname,firstname)"
   ]
  },
  {
   "cell_type": "code",
   "execution_count": 15,
   "metadata": {},
   "outputs": [
    {
     "name": "stdout",
     "output_type": "stream",
     "text": [
      "a = 99\n",
      "b = 6\n",
      "Sum of a and b = 105\n"
     ]
    }
   ],
   "source": [
    "#6. Write a python program which takes two inputs from user and print them addition!\n",
    "\n",
    "a1 = input(\"a = \")\n",
    "b1 = input(\"b = \")\n",
    "c = int(a1)+int(b1)\n",
    "print(\"Sum of a and b =\",c)"
   ]
  }
 ],
 "metadata": {
  "kernelspec": {
   "display_name": "Python 3",
   "language": "python",
   "name": "python3"
  },
  "language_info": {
   "codemirror_mode": {
    "name": "ipython",
    "version": 3
   },
   "file_extension": ".py",
   "mimetype": "text/x-python",
   "name": "python",
   "nbconvert_exporter": "python",
   "pygments_lexer": "ipython3",
   "version": "3.7.4"
  }
 },
 "nbformat": 4,
 "nbformat_minor": 2
}
