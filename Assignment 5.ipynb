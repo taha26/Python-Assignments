{
 "cells": [
  {
   "cell_type": "code",
   "execution_count": 1,
   "metadata": {},
   "outputs": [
    {
     "name": "stdout",
     "output_type": "stream",
     "text": [
      "Muhammad Taha\n"
     ]
    }
   ],
   "source": [
    "print(\"Muhammad Taha\")"
   ]
  },
  {
   "cell_type": "code",
   "execution_count": 2,
   "metadata": {},
   "outputs": [
    {
     "name": "stdout",
     "output_type": "stream",
     "text": [
      "120\n"
     ]
    }
   ],
   "source": [
    "# Question:1 Write a Python function to calculate the factorial of a number (a non-negative integer). The function accepts the number as an argument.\n",
    "\n",
    "def CalFactorial(number):\n",
    "    factorial = 1\n",
    "    for i in range(1,number + 1):\n",
    "            factorial = factorial * i\n",
    "    print(factorial)\n",
    "\n",
    "CalFactorial(5)"
   ]
  },
  {
   "cell_type": "code",
   "execution_count": 3,
   "metadata": {},
   "outputs": [
    {
     "name": "stdout",
     "output_type": "stream",
     "text": [
      "\n",
      "4 Upper Case Values!!\n",
      "\n",
      "3 Lower Case Values!!\n",
      "\n"
     ]
    }
   ],
   "source": [
    "# Question:2 Write a Python function that accepts a string and calculate the number of upper case letters and lower case letters.\n",
    "\n",
    "def upperlower(string):\n",
    "    uppercase = 0\n",
    "    lowercase = 0\n",
    "    \n",
    "    for letter in string:\n",
    "        if letter == letter.upper():\n",
    "            uppercase += 1\n",
    "        elif letter == letter.lower():\n",
    "            lowercase += 1\n",
    "            \n",
    "    print(\"\\n{} Upper Case Values!!\\n\\n{} Lower Case Values!!\\n\".format(uppercase,lowercase))\n",
    "        \n",
    "upperlower(\"STRingS\")"
   ]
  },
  {
   "cell_type": "code",
   "execution_count": 4,
   "metadata": {},
   "outputs": [
    {
     "name": "stdout",
     "output_type": "stream",
     "text": [
      "2\n",
      "222\n",
      "64\n",
      "58\n",
      "6\n",
      "56\n",
      "90\n",
      "6\n",
      "222\n",
      "888\n",
      "642\n"
     ]
    }
   ],
   "source": [
    "# Question:3 Write a Python function to print the even numbers from a given list.\n",
    "\n",
    "a_list = [19,2,222,23,64,58,6,345,56,7,967,90,789,6,222,343,888,642,193]\n",
    "\n",
    "def eveNum(a_list):\n",
    "    for elements in a_list:\n",
    "        if elements % 2 == 0:\n",
    "            print(elements)\n",
    "            \n",
    "eveNum(a_list)"
   ]
  },
  {
   "cell_type": "code",
   "execution_count": 5,
   "metadata": {},
   "outputs": [
    {
     "name": "stdout",
     "output_type": "stream",
     "text": [
      "!! Yes !! This String Is Palindrome...... !!\n",
      "\n",
      "!! Yes !! This String Is Palindrome...... !!\n",
      "\n",
      "!! No !! This String Is Not Palindrome...... !!\n",
      "\n",
      "Note: A palindrome is a word, phrase, or sequence that reads the same backward as forward, e.g. madam\n"
     ]
    }
   ],
   "source": [
    "# Question:4 Write a Python function that checks whether a passed string is palindrome or not. Note: A palindrome is a word, phrase, or sequence that reads the same backward as forward, e.g., madam\n",
    "\n",
    "def pass_palindrome(palindrome):\n",
    "    if palindrome == palindrome[::-1]:\n",
    "        print(\"!! Yes !! This String Is Palindrome...... !!\\n\")\n",
    "    else:\n",
    "        print(\"!! No !! This String Is Not Palindrome...... !!\")\n",
    "        \n",
    "pass_palindrome(\"eye\")\n",
    "pass_palindrome(\"madam\")\n",
    "pass_palindrome(\"string\")\n",
    "\n",
    "print(\"\\nNote: A palindrome is a word, phrase, or sequence that reads the same backward as forward, e.g. madam\")"
   ]
  },
  {
   "cell_type": "code",
   "execution_count": 6,
   "metadata": {},
   "outputs": [
    {
     "name": "stdout",
     "output_type": "stream",
     "text": [
      "!! 11 Number Is A Prime Number !!\n"
     ]
    }
   ],
   "source": [
    "# Question:5 Write a Python function that takes a number as a parameter and check the number is prime or not.\n",
    "\n",
    "def primeNum(number):\n",
    "    func = True\n",
    "    if number > 1:\n",
    "        for i in range(2,number):  \n",
    "            if (number % i) == 0:  \n",
    "                print(\"!!\", number ,\"Number Is Not A Prime Number !!\")  \n",
    "                func = False\n",
    "                break  \n",
    "        if func:\n",
    "            print(\"!!\", number , \"Number Is A Prime Number !!\")\n",
    "\n",
    "    else:\n",
    "        print(\"!!\", number , \"Is Not A Prime Number !!\")\n",
    "        \n",
    "primeNum(11)"
   ]
  },
  {
   "cell_type": "code",
   "execution_count": 1,
   "metadata": {},
   "outputs": [
    {
     "name": "stdout",
     "output_type": "stream",
     "text": [
      "\n",
      "-------------------------------------------\n",
      "        !! Customers Shopping List !!      \n",
      "-------------------------------------------\n",
      "\n",
      "\n",
      "Please Enter Your Shopping item [Press 0 to Exit] : laptop\n",
      "\n",
      "Please Enter Your Shopping item [Press 0 to Exit] : mobile\n",
      "\n",
      "Please Enter Your Shopping item [Press 0 to Exit] : bags\n",
      "\n",
      "Please Enter Your Shopping item [Press 0 to Exit] : 0\n",
      "\n",
      "Your Purchased Item : laptop\n",
      "\n",
      "Your Purchased Item : mobile\n",
      "\n",
      "Your Purchased Item : bags\n",
      "\n",
      "*****************************************************************************************\n",
      "------------------------------!! THANKS FOR SHOPPING !!----------------------------------\n",
      "*****************************************************************************************\n",
      "\n"
     ]
    }
   ],
   "source": [
    "# Question: 6 Suppose a customer is shopping in a market and you need to print all the items which user bought from market. Write a function which accepts the multiple arguments of user shopping list and print all the items which user bought from market. (Hint: Arbitrary Argument concept can make this task ease)\n",
    "\n",
    "print(\"\\n-------------------------------------------\")\n",
    "print(\"        !! Customers Shopping List !!      \")\n",
    "print(\"-------------------------------------------\\n\")\n",
    "\n",
    "def shoppingList(*items):\n",
    "        shoppingItems = []\n",
    "        while True:\n",
    "            item = input(\"\\nPlease Enter Your Shopping item [Press 0 to Exit] : \")\n",
    "            if item != '0':\n",
    "                shoppingItems.append(item)\n",
    "            else:\n",
    "                break\n",
    "        for item in range(len(shoppingItems)):\n",
    "            print(\"\\nYour Purchased Item : {}\".format(shoppingItems[item]))\n",
    "            \n",
    "shoppingList()\n",
    "print(\"\\n*****************************************************************************************\")\n",
    "print(\"------------------------------!! THANKS FOR SHOPPING !!----------------------------------\")\n",
    "print(\"*****************************************************************************************\\n\")"
   ]
  },
  {
   "cell_type": "code",
   "execution_count": null,
   "metadata": {},
   "outputs": [],
   "source": []
  }
 ],
 "metadata": {
  "kernelspec": {
   "display_name": "Python 3",
   "language": "python",
   "name": "python3"
  },
  "language_info": {
   "codemirror_mode": {
    "name": "ipython",
    "version": 3
   },
   "file_extension": ".py",
   "mimetype": "text/x-python",
   "name": "python",
   "nbconvert_exporter": "python",
   "pygments_lexer": "ipython3",
   "version": "3.7.4"
  }
 },
 "nbformat": 4,
 "nbformat_minor": 2
}
