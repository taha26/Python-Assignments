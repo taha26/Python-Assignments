{
 "cells": [
  {
   "cell_type": "code",
   "execution_count": 20,
   "metadata": {},
   "outputs": [
    {
     "name": "stdout",
     "output_type": "stream",
     "text": [
      "Muhammad Taha\n"
     ]
    }
   ],
   "source": [
    "print(\"Muhammad Taha\")"
   ]
  },
  {
   "cell_type": "code",
   "execution_count": 21,
   "metadata": {},
   "outputs": [
    {
     "name": "stdout",
     "output_type": "stream",
     "text": [
      "Marks out of 100 / 97\n",
      "Marks out of 100 / 77\n",
      "Marks out of 100 / 84\n",
      "Marks out of 100 / 56\n",
      "Marks out of 100 / 61\n",
      "Totalmarks = 375\n",
      "Percentage = 75.0\n",
      "Grade A\n"
     ]
    }
   ],
   "source": [
    "#1. Write a program which takes 5 inputs from user for different subject’s marks, total it and generate mark sheet using grades!\n",
    "\n",
    "marks=[]\n",
    "totalmarks=0;\n",
    "for i in range (5):\n",
    "    a=int(input(\"Marks out of 100 / \"))\n",
    "  \n",
    "    marks.append(a)\n",
    "    totalmarks=totalmarks+a\n",
    "\n",
    "print(\"Totalmarks =\",totalmarks)  \n",
    "percentage=(totalmarks*100)/500\n",
    "print(\"Percentage =\",percentage)\n",
    "if percentage>=90:\n",
    "    print(\"Grade A+\")\n",
    "elif percentage>=80:\n",
    "    print(\"Grade A+\")\n",
    "elif percentage>=70:\n",
    "    print(\"Grade A\")    \n",
    "elif percentage>=60:\n",
    "    print(\"Grade B\") \n",
    "else:\n",
    "    print(\"Fail\")"
   ]
  },
  {
   "cell_type": "code",
   "execution_count": 22,
   "metadata": {},
   "outputs": [
    {
     "name": "stdout",
     "output_type": "stream",
     "text": [
      "Enter Number : 32\n",
      "Mention below is an even number!\n"
     ]
    }
   ],
   "source": [
    "#2. Write a program which take input from user and identify that the given number is even or odd!\n",
    "\n",
    "Number = int(input(\"Enter Number : \"))\n",
    "if Number%2==0:\n",
    "    print(\"Mention below is an even number!\")\n",
    "else:\n",
    "    print(\"Mention below is an odd number!\")"
   ]
  },
  {
   "cell_type": "code",
   "execution_count": 23,
   "metadata": {},
   "outputs": [
    {
     "name": "stdout",
     "output_type": "stream",
     "text": [
      "Length of the list =  11\n"
     ]
    }
   ],
   "source": [
    "#3. Write a program which print the length of the list!\n",
    "\n",
    "list = [1,4,75,5675,4,63,86,86,98,7854332,6454]\n",
    "print(\"Length of the list = \",len(list))"
   ]
  },
  {
   "cell_type": "code",
   "execution_count": 24,
   "metadata": {},
   "outputs": [
    {
     "name": "stdout",
     "output_type": "stream",
     "text": [
      "Sum of list =  1635\n"
     ]
    }
   ],
   "source": [
    "#4. Write a Python program to sum all the numeric items in a list!\n",
    "\n",
    "list = [77,57,1,456,34,1000,10]\n",
    "a = len(list)\n",
    "sum = 0\n",
    "for i in range (a):\n",
    "    sum=sum+list[i]\n",
    "print(\"Sum of list = \",sum)"
   ]
  },
  {
   "cell_type": "code",
   "execution_count": 25,
   "metadata": {},
   "outputs": [
    {
     "name": "stdout",
     "output_type": "stream",
     "text": [
      "Largest number from a list =  2093\n"
     ]
    }
   ],
   "source": [
    "#5. Write a Python program to get the largest number from a numeric list!\n",
    "\n",
    "list = [534,6,456,74,473,364,634,1010,1,2093]\n",
    "\n",
    "print(\"Largest number from a list = \",max(list))"
   ]
  },
  {
   "cell_type": "code",
   "execution_count": 26,
   "metadata": {},
   "outputs": [
    {
     "name": "stdout",
     "output_type": "stream",
     "text": [
      "2\n",
      "1\n",
      "0\n"
     ]
    }
   ],
   "source": [
    "#6. Take a list, say for example this one: a = [1, 1, 2, 3, 5, 8, 13, 21, 34, 55, 89] and write a program that prints out all the elements of the list that are less than 5!\n",
    "\n",
    "list = [2,324,24,43,34,6,5,66,1,99,96,12,0]\n",
    "a = len(list)\n",
    "for i in range(a):\n",
    "    if list[i]<5:\n",
    "        print(list[i])"
   ]
  },
  {
   "cell_type": "code",
   "execution_count": null,
   "metadata": {},
   "outputs": [],
   "source": []
  }
 ],
 "metadata": {
  "kernelspec": {
   "display_name": "Python 3",
   "language": "python",
   "name": "python3"
  },
  "language_info": {
   "codemirror_mode": {
    "name": "ipython",
    "version": 3
   },
   "file_extension": ".py",
   "mimetype": "text/x-python",
   "name": "python",
   "nbconvert_exporter": "python",
   "pygments_lexer": "ipython3",
   "version": "3.7.4"
  }
 },
 "nbformat": 4,
 "nbformat_minor": 2
}
