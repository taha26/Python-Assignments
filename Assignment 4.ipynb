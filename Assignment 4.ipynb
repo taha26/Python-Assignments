{
 "cells": [
  {
   "cell_type": "code",
   "execution_count": 1,
   "metadata": {},
   "outputs": [
    {
     "name": "stdout",
     "output_type": "stream",
     "text": [
      "Muhammad Taha\n"
     ]
    }
   ],
   "source": [
    "print(\"Muhammad Taha\")"
   ]
  },
  {
   "cell_type": "code",
   "execution_count": 2,
   "metadata": {},
   "outputs": [
    {
     "name": "stdout",
     "output_type": "stream",
     "text": [
      "Existing Dictionary :- \n",
      " \n",
      "{'First_name': 'Bilal', 'Last_name': 'Khan', 'Age': 29, 'City': 'Karachi'}\n",
      "\n",
      "Adding new key of QUALIFICATION with value in existing dictionary :- \n",
      " \n",
      "{'First_name': 'Bilal', 'Last_name': 'Khan', 'Age': 29, 'City': 'Karachi', 'Qualification': 'ICS'}\n",
      "\n",
      "Updating QUALIFICATION key value :- \n",
      " \n",
      "{'First_name': 'Bilal', 'Last_name': 'Khan', 'Age': 29, 'City': 'Karachi', 'Qualification': 'BSSE'}\n",
      "\n",
      "Now deleting QUALIFICATION key with value :- \n",
      " \n",
      "{'First_name': 'Bilal', 'Last_name': 'Khan', 'Age': 29, 'City': 'Karachi'}\n"
     ]
    }
   ],
   "source": [
    "#Question1: Use a dictionary to store information about a person you know. Store their first name, last name, age, and the city in which they live. You should have keys such as first_name, last_name, age, and city. Print each piece of information stored in your dictionary. Add a new key value pair about qualification then update the qualification value to high academic level then delete it.\n",
    "\n",
    "person_dict = {\n",
    "    \n",
    "    \"First_name\":\"Bilal\",\n",
    "    \"Last_name\":\"Khan\",\n",
    "    \"Age\":29,\n",
    "    \"City\":\"Karachi\"\n",
    "}\n",
    "print(\"Existing Dictionary :- \\n \")\n",
    "print(person_dict)\n",
    "print(\"\\nAdding new key of QUALIFICATION with value in existing dictionary :- \\n \")\n",
    "person_dict[\"Qualification\"] = \"ICS\"\n",
    "print(person_dict)\n",
    "print(\"\\nUpdating QUALIFICATION key value :- \\n \")\n",
    "person_dict[\"Qualification\"] = \"BSSE\"\n",
    "print(person_dict)\n",
    "print(\"\\nNow deleting QUALIFICATION key with value :- \\n \")\n",
    "del person_dict[\"Qualification\"]\n",
    "print(person_dict)"
   ]
  },
  {
   "cell_type": "code",
   "execution_count": 7,
   "metadata": {},
   "outputs": [
    {
     "name": "stdout",
     "output_type": "stream",
     "text": [
      "List OF Cities :- \n",
      "\n",
      "Islamabad\n",
      "New York\n",
      "Tokyo\n",
      "\n",
      "Insert city name from above list : Tokyo\n",
      "\n",
      "Tokyo : {'Country': 'Japan', 'Population': '11.93 million', 'Fact': 'Tokyo has the most top-rated restaurants in the world. It is home to over 14 three-star Michelin restaurants.'}\n"
     ]
    }
   ],
   "source": [
    "#Question2: Make a dictionary called cities. Use the names of three cities as keys in your dictionary. Create a dictionary of information about each city and include the country that the city is in, its approximate population, and one fact about that city. The keys for each city’s dictionary should be something like country, population, and fact. Print the name of each city and all of the information you have stored about it.\n",
    "\n",
    "cities = {\n",
    "    \"Islamabad\": {\n",
    "        \"Country\":\"Pakistan\",\n",
    "        \"Population\": \"197 million\",\n",
    "        \"Fact\": \"Capital city of Pakistan\",\n",
    "    \n",
    "    },\n",
    "    \n",
    "    \"New York\": {\n",
    "        \"Country\":\"United States\",\n",
    "        \"Population\": \"13.13 million\",\n",
    "        \"Fact\": \"New York City is made up of five boroughs: Manhattan, The Bronx, Queens, Brooklyn, and Staten Island\",\n",
    "    \n",
    "    },\n",
    "    \n",
    "    \"Tokyo\": {\n",
    "        \"Country\":\"Japan\",\n",
    "        \"Population\": \"11.93 million\",\n",
    "        \"Fact\": \"Tokyo has the most top-rated restaurants in the world. It is home to over 14 three-star Michelin restaurants.\",\n",
    "    \n",
    "    }\n",
    "}\n",
    "print(\"List OF Cities :- \\n\")\n",
    "for cities_name in cities.keys():\n",
    "    print(cities_name)\n",
    "city = input(\"\\nInsert city name from above list : \")\n",
    "flag = False\n",
    "for city_key,city_val in cities.items():\n",
    "    if city_key == city:\n",
    "        flag = True\n",
    "        break\n",
    "if(flag):\n",
    "    print(\"\\n\" + str(city_key) + \" : \" + str(city_val) )\n",
    "else:\n",
    "    print(\"\\nPlease insert city from above cities list!\")"
   ]
  },
  {
   "cell_type": "code",
   "execution_count": 8,
   "metadata": {},
   "outputs": [
    {
     "name": "stdout",
     "output_type": "stream",
     "text": [
      "Please enter your age : 17\n",
      "\n",
      "Your movie ticket is : $15\n"
     ]
    }
   ],
   "source": [
    "#Question3: A movie theater charges different ticket prices depending on a person’s age. If a person is under the age of 3, the ticket is free; if they are between 3 and 12, the ticket is $10; and if they are over age 12, the ticket is $15. Write a loop in which you ask users their age, and then tell them the cost of their movie ticket.\n",
    "\n",
    "for i in range(3):\n",
    "    age = int(input(\"Please enter your age : \"))\n",
    "    if age <=3:\n",
    "        print(\"\\nYour movie ticket is free of cost!!\")\n",
    "        break\n",
    "    if age >3 and age <=12:\n",
    "        print(\"\\nYour movie ticket is : $10\")\n",
    "        break\n",
    "    if age > 12:\n",
    "        print(\"\\nYour movie ticket is : $15\")\n",
    "        break"
   ]
  },
  {
   "cell_type": "code",
   "execution_count": 9,
   "metadata": {},
   "outputs": [
    {
     "name": "stdout",
     "output_type": "stream",
     "text": [
      "One of my favourite book is The Great Gatsby by F. Scott Fitzgerald\n"
     ]
    }
   ],
   "source": [
    "#Question4: Write a function called favourite_book() that accepts one parameter, title. The function should print a message, such as One of my favorite books is Alice in Wonderland. Call the function, making sure to include a book title as an argument in the function call.\n",
    "\n",
    "def favourite_book(title):\n",
    "    print(\"One of my favourite book is\",title)\n",
    "    return None\n",
    "favourite_book(\"The Great Gatsby by F. Scott Fitzgerald\")"
   ]
  },
  {
   "cell_type": "code",
   "execution_count": 10,
   "metadata": {},
   "outputs": [
    {
     "name": "stdout",
     "output_type": "stream",
     "text": [
      "Guess The Hidden Number :- \n",
      "\n",
      "You have 3 chances to guess the hidden number (from 1 to 30) : 7\n",
      "\tHINT!!! Your guess is greater than the hidden number !\n",
      "\n",
      "You have 2 chances to guess the hidden number (from 1 to 30) : 4\n",
      "\tHINT!!! Your guess is less than the hidden number !\n",
      "\n",
      "You have 1 chances to guess the hidden number (from 1 to 30) : 1\n",
      "\tHINT!!! Your guess is less than the hidden number !\n",
      "\n",
      "\tYou Lost !! Hidden Number was : 18\n"
     ]
    }
   ],
   "source": [
    "print(\"Guess The Hidden Number :- \")\n",
    "import random as rd\n",
    "i = 3\n",
    "while i > 0:\n",
    "    hidden_num = rd.randint(1,30)\n",
    "    user_num = int(input(f\"\\nYou have {i} chances to guess the hidden number (from 1 to 30) : \"))\n",
    "    \n",
    "    if user_num == hidden_num:\n",
    "        print(\"\\t***Congratulations ! Correct Guess, You Won*** :)\")\n",
    "        break\n",
    "    elif user_num > hidden_num:\n",
    "        print(\"\\tHINT!!! Your guess is greater than the hidden number !\")\n",
    "        i -= 1\n",
    "    elif user_num < hidden_num:\n",
    "        print(\"\\tHINT!!! Your guess is less than the hidden number !\")\n",
    "        i-=1\n",
    "    elif user_num < 1 or user_num > 30:\n",
    "        print(\"\\tPlease enter number in range 1 to 30 !\")\n",
    "        \n",
    "if i == 0:\n",
    "    print(f\"\\n\\tYou Lost !! Hidden Number was : {hidden_num}\")"
   ]
  },
  {
   "cell_type": "code",
   "execution_count": null,
   "metadata": {},
   "outputs": [],
   "source": []
  }
 ],
 "metadata": {
  "kernelspec": {
   "display_name": "Python 3",
   "language": "python",
   "name": "python3"
  },
  "language_info": {
   "codemirror_mode": {
    "name": "ipython",
    "version": 3
   },
   "file_extension": ".py",
   "mimetype": "text/x-python",
   "name": "python",
   "nbconvert_exporter": "python",
   "pygments_lexer": "ipython3",
   "version": "3.7.4"
  }
 },
 "nbformat": 4,
 "nbformat_minor": 2
}
